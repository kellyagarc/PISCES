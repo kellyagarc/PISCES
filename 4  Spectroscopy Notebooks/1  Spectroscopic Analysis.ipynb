{
 "cells": [
  {
   "cell_type": "markdown",
   "metadata": {},
   "source": [
    "<img style='float: right' src=\"http://cer.ucsd.edu/_images/logo-bw.jpg\" width=\"200\" height=\"40\" > <br> <br>\n",
    "# Spectroscopic Analysis\n",
    "## Identify and Track the Evolution of Lines\n",
    "\n",
    "\n",
    "### Description:\n",
    "Import spectroscopic data from ocean optics spectrometer. Perform background normalization and locate peaks of interest.\n",
    "\n",
    "Version 1.0, 11-OCT-2016"
   ]
  },
  {
   "cell_type": "code",
   "execution_count": 7,
   "metadata": {
    "collapsed": false
   },
   "outputs": [],
   "source": [
    "from IPython.core.display import HTML\n",
    "from IPython.core.pylabtools import figsize\n",
    "from IPython.html.widgets import interact, interactive, fixed\n",
    "from IPython.display import clear_output, display, HTML\n",
    "from IPython.html import widgets\n",
    "\n",
    "import plotly.plotly as py\n",
    "py.sign_in('kadriany', 'epddqp6477')\n",
    "import plotly.graph_objs as go\n",
    "\n",
    "import json, os, glob, csv, json, sys\n",
    "s = json.load(open('..\\\\7  Notebook Config Files\\\\bmh_matplotlibrc.json') )\n",
    "\n",
    "import matplotlib\n",
    "import matplotlib.pyplot as plt\n",
    "from matplotlib.widgets import Cursor\n",
    "%matplotlib inline\n",
    "matplotlib.rcParams.update(s)\n",
    " \n",
    "def css_styling():\n",
    "    styles = open('..\\\\7  Notebook Config Files\\\\custom.css', \"r\").read()\n",
    "    return HTML(styles)\n",
    "css_styling()\n",
    "\n",
    "import numpy as np\n",
    "import math as m\n",
    "from tqdm import tqdm\n",
    "from scipy import signal\n",
    "from PyQt4 import QtGui\n",
    "\n",
    "figsize(16,9)"
   ]
  },
  {
   "cell_type": "code",
   "execution_count": 2,
   "metadata": {
    "collapsed": true
   },
   "outputs": [],
   "source": [
    "def openfolder_dialog():\n",
    "    from PyQt4 import QtGui\n",
    "    app = QtGui.QApplication([dir])\n",
    "    fname = QtGui.QFileDialog.getExistingDirectory(None, \"Select Folder...\", \"..\\\\..\\\\2  Data\\\\3  Ocean Optics Spectrometer\\\\\",QtGui.QFileDialog.ShowDirsOnly)\n",
    "    return str(fname) + \"\\\\\"\n",
    "\n",
    "def openfile_dialog(folder,prompt):\n",
    "    from PyQt4 import QtGui\n",
    "    app = QtGui.QApplication([dir])\n",
    "    fname = QtGui.QFileDialog.getOpenFileName(None,prompt,folder, filter=\"All files (*.txt)\")\n",
    "    return str(fname)"
   ]
  },
  {
   "cell_type": "code",
   "execution_count": 3,
   "metadata": {
    "collapsed": false
   },
   "outputs": [],
   "source": [
    "folder = openfolder_dialog()"
   ]
  },
  {
   "cell_type": "code",
   "execution_count": 4,
   "metadata": {
    "collapsed": false
   },
   "outputs": [],
   "source": [
    "def specread(path):\n",
    "    reader = csv.reader(open(path),delimiter='\\n')\n",
    "    result = np.array(list(reader))\n",
    "    wavelength = []\n",
    "    intensity = []\n",
    "    for i in range(18,len(result)-1):\n",
    "        tmp = result[i]\n",
    "        dat = tmp[0].split('\\t')\n",
    "        w = float(dat[0])\n",
    "        i = float(dat[1])\n",
    "        wavelength.append(w)\n",
    "        intensity.append(i)\n",
    "    return wavelength, intensity\n",
    "\n",
    "def wiplot(w,I,title):\n",
    "    trace = go.Scatter(x = w,y = I,)\n",
    "    data = [trace]\n",
    "    layout = dict(title = title,xaxis = dict(title = 'Wavelength [nm]'),yaxis = dict(title = 'Intensity'))\n",
    "    fig = dict(data=data, layout=layout)\n",
    "    return py.iplot(fig, filename='basic-line')\n",
    "    \n",
    "\n",
    "def WIplot(wavelength,intensity,title,vline):\n",
    "    fig = plt.plot(wavelength,intensity,'c')\n",
    "    plt.xlim(m.floor(min(wavelength,key=float))-10,m.ceil(max(wavelength,key=float))+10)\n",
    "    plt.title(title)\n",
    "    plt.xlabel('Wavelength [nm]')\n",
    "    plt.ylabel('Intensity')\n",
    "    if vline == True:\n",
    "        plt.axvline(352.38,color='r',linestyle='--')\n",
    "        #plt.axvline(351.32,color='r',linestyle='--')\n",
    "        plt.axvline(507.8,color='r',linestyle='--')\n",
    "        plt.axvline(361.72,color='r',linestyle='--')\n",
    "    plt.savefig(savepath + title + '.png')\n",
    "    plt.show()\n",
    "\n",
    "\n"
   ]
  },
  {
   "cell_type": "code",
   "execution_count": 8,
   "metadata": {
    "collapsed": false
   },
   "outputs": [
    {
     "name": "stderr",
     "output_type": "stream",
     "text": [
      "100%|████████████████████████████████████████| 200/200 [00:04<00:00, 47.45it/s]\n"
     ]
    }
   ],
   "source": [
    "specs = {}\n",
    "paths = glob.glob(folder + \"*.txt\")\n",
    "for path in tqdm(paths):\n",
    "    [wavelength, intensity] = specread(path)\n",
    "    specs[path.split('\\\\')[7].split('.txt')[0]] = specread(path)"
   ]
  },
  {
   "cell_type": "code",
   "execution_count": 12,
   "metadata": {
    "collapsed": false
   },
   "outputs": [
    {
     "name": "stdout",
     "output_type": "stream",
     "text": [
      "200\n"
     ]
    }
   ],
   "source": [
    "print len(specs.keys())"
   ]
  },
  {
   "cell_type": "code",
   "execution_count": 13,
   "metadata": {
    "collapsed": false
   },
   "outputs": [],
   "source": [
    "background = specread(openfile_dialog(folder, \"Select Background Shot...\"))\n",
    "foreground = specread(openfile_dialog(folder, \"Select Foreground Shot...\"))"
   ]
  },
  {
   "cell_type": "code",
   "execution_count": 14,
   "metadata": {
    "collapsed": false
   },
   "outputs": [],
   "source": [
    "bi = background[1]\n",
    "w = foreground[0]\n",
    "I = foreground[1]\n",
    "#test\n",
    "bsi = []\n",
    "for i in range(len(w)):\n",
    "    bsi.append(I[i]-bi[i])"
   ]
  },
  {
   "cell_type": "code",
   "execution_count": 15,
   "metadata": {
    "collapsed": false
   },
   "outputs": [
    {
     "data": {
      "text/html": [
       "<iframe id=\"igraph\" scrolling=\"no\" style=\"border:none;\" seamless=\"seamless\" src=\"https://plot.ly/~kadriany/4.embed\" height=\"525px\" width=\"100%\"></iframe>"
      ],
      "text/plain": [
       "<plotly.tools.PlotlyDisplay object>"
      ]
     },
     "execution_count": 15,
     "metadata": {},
     "output_type": "execute_result"
    }
   ],
   "source": [
    "wiplot(w,I, 'Signal')"
   ]
  },
  {
   "cell_type": "code",
   "execution_count": 16,
   "metadata": {
    "collapsed": false
   },
   "outputs": [
    {
     "data": {
      "text/html": [
       "<iframe id=\"igraph\" scrolling=\"no\" style=\"border:none;\" seamless=\"seamless\" src=\"https://plot.ly/~kadriany/4.embed\" height=\"525px\" width=\"100%\"></iframe>"
      ],
      "text/plain": [
       "<plotly.tools.PlotlyDisplay object>"
      ]
     },
     "execution_count": 16,
     "metadata": {},
     "output_type": "execute_result"
    }
   ],
   "source": [
    "wiplot(w,bi,'Background')"
   ]
  },
  {
   "cell_type": "code",
   "execution_count": 17,
   "metadata": {
    "collapsed": false
   },
   "outputs": [
    {
     "data": {
      "text/html": [
       "<iframe id=\"igraph\" scrolling=\"no\" style=\"border:none;\" seamless=\"seamless\" src=\"https://plot.ly/~kadriany/4.embed\" height=\"525px\" width=\"100%\"></iframe>"
      ],
      "text/plain": [
       "<plotly.tools.PlotlyDisplay object>"
      ]
     },
     "execution_count": 17,
     "metadata": {},
     "output_type": "execute_result"
    }
   ],
   "source": [
    "wiplot(w,bsi,'Background Subtraction')"
   ]
  },
  {
   "cell_type": "code",
   "execution_count": null,
   "metadata": {
    "collapsed": true
   },
   "outputs": [],
   "source": []
  },
  {
   "cell_type": "code",
   "execution_count": null,
   "metadata": {
    "collapsed": false
   },
   "outputs": [],
   "source": [
    "print 1"
   ]
  },
  {
   "cell_type": "markdown",
   "metadata": {},
   "source": [
    "Explain"
   ]
  },
  {
   "cell_type": "code",
   "execution_count": null,
   "metadata": {
    "collapsed": true
   },
   "outputs": [],
   "source": []
  },
  {
   "cell_type": "code",
   "execution_count": null,
   "metadata": {
    "collapsed": true
   },
   "outputs": [],
   "source": []
  },
  {
   "cell_type": "code",
   "execution_count": null,
   "metadata": {
    "collapsed": true
   },
   "outputs": [],
   "source": []
  },
  {
   "cell_type": "markdown",
   "metadata": {},
   "source": [
    "<footer>\n",
    "  <p>Created by: Kyle Adriany</p>\n",
    "  <p>Contact information: <a href=\"mailto:kyle.adriany@gmail.com\">\n",
    "    kyle.adriany@gmail.com</a>.</p>\n",
    "    \n",
    "    <p>Copyright © 2016 Kyle Adriany</p>\n",
    "    \n",
    "    <p>The MIT License (MIT)</p>\n",
    "    \n",
    "\n",
    " <p>Permission is hereby granted, free of charge, to any person obtaining a copy\n",
    " of this software and associated documentation files (the \"Software\"), to deal\n",
    " in the Software without restriction, including without limitation the rights\n",
    " to use, copy, modify, merge, publish, distribute, sublicense, and/or sell\n",
    " copies of the Software, and to permit persons to whom the Software is\n",
    " furnished to do so, subject to the following conditions:</p>\n",
    " \n",
    " <p>The above copyright notice and this permission notice shall be included in\n",
    "all copies or substantial portions of the Software.</p>\n",
    "\n",
    " <p>THE SOFTWARE IS PROVIDED \"AS IS\", WITHOUT WARRANTY OF ANY KIND, EXPRESS OR\n",
    " IMPLIED, INCLUDING BUT NOT LIMITED TO THE WARRANTIES OF MERCHANTABILITY,\n",
    " FITNESS FOR A PARTICULAR PURPOSE AND NONINFRINGEMENT. IN NO EVENT SHALL THE\n",
    " AUTHORS OR COPYRIGHT HOLDERS BE LIABLE FOR ANY CLAIM, DAMAGES OR OTHER\n",
    " LIABILITY, WHETHER IN AN ACTION OF CONTRACT, TORT OR OTHERWISE, ARISING FROM,\n",
    " OUT OF OR IN CONNECTION WITH THE SOFTWARE OR THE USE OR OTHER DEALINGS IN\n",
    " THE SOFTWARE.</p>\n",
    "</footer>"
   ]
  }
 ],
 "metadata": {
  "kernelspec": {
   "display_name": "Python 2",
   "language": "python",
   "name": "python2"
  },
  "language_info": {
   "codemirror_mode": {
    "name": "ipython",
    "version": 2
   },
   "file_extension": ".py",
   "mimetype": "text/x-python",
   "name": "python",
   "nbconvert_exporter": "python",
   "pygments_lexer": "ipython2",
   "version": "2.7.12"
  }
 },
 "nbformat": 4,
 "nbformat_minor": 0
}
