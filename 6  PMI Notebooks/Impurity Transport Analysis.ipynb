{
 "cells": [
  {
   "cell_type": "code",
   "execution_count": 14,
   "metadata": {
    "collapsed": false
   },
   "outputs": [],
   "source": [
    "from IPython.core.display import HTML\n",
    "from IPython.core.pylabtools import figsize\n",
    "\n",
    "from matplotlib import pyplot as plt\n",
    "import matplotlib, glob, csv, json\n",
    "%matplotlib inline\n",
    "import math as m\n",
    "import numpy as np\n",
    "\n",
    "from scipy.constants import *\n",
    "from scipy import signal\n",
    "\n",
    "s = json.load(open(\"bmh_matplotlibrc.json\") )\n",
    "matplotlib.rcParams.update(s)\n",
    "def css_styling():\n",
    "    styles = open(\"custom.css\", \"r\").read()\n",
    "    return HTML(styles)\n",
    "css_styling()\n",
    "figsize(16, 9)"
   ]
  },
  {
   "cell_type": "markdown",
   "metadata": {},
   "source": [
    "### Langevin Cross Section"
   ]
  },
  {
   "cell_type": "code",
   "execution_count": 48,
   "metadata": {
    "collapsed": false
   },
   "outputs": [],
   "source": [
    "Density = 10**19 #n/m^3\n",
    "Area = .0001 #m^2\n",
    "Velocity = 200 #m/s\n",
    "q = elementary_charge\n",
    "Eo = epsilon_0\n",
    "MassAr = 39.948 * physical_constants['atomic unit of mass'][0]\n",
    "MassW = 183.84 * physical_constants['atomic unit of mass'][0]\n",
    "Mr = MassAr * MassW/(MassAr + MassW)\n",
    "PolarizabilityW = 10\n"
   ]
  },
  {
   "cell_type": "code",
   "execution_count": 61,
   "metadata": {
    "collapsed": false
   },
   "outputs": [
    {
     "name": "stdout",
     "output_type": "stream",
     "text": [
      "The Langevin Capture Cross Section for Tungsten Neutrals in Argon is 0.28 [m^2]\n",
      "The Ionization Mean Free Path for Tungsten Neutrals in Argon is 3.62e-19 [m]\n",
      "The Collision Frequency for Tungsten Neutrals in Argon is 5.52e+20 [1/s]\n",
      "The Mobility of Tungsten Neutrals in Argon is 1.73e-12 [C s/kg]\n",
      "The Argon Flux on the Tungsten Surface is 2.00e+17 [1/s m^2]\n"
     ]
    }
   ],
   "source": [
    "Crossection = ((m.pi * PolarizabilityW * q**2)/(epsilon_0 * Mr))**.5 * 1.0/Velocity\n",
    "Flux = Density*Area*Velocity\n",
    "MFP = 1/(Density * Crossection)\n",
    "Collision = Density * Crossection * Velocity\n",
    "Mobility = q/(MassW * Collision)\n",
    "\n",
    "print \"The Langevin Capture Cross Section for Tungsten Neutrals in Argon is %.2f [m^2]\" %Crossection\n",
    "print \"The Ionization Mean Free Path for Tungsten Neutrals in Argon is %.2e [m]\" %MFP\n",
    "print \"The Collision Frequency for Tungsten Neutrals in Argon is %.2e [1/s]\" %Collision\n",
    "print \"The Mobility of Tungsten Neutrals in Argon is %.2e [C s/kg]\" %Mobility\n",
    "print \"The Argon Flux on the Tungsten Surface is %.2e [1/s m^2]\" %Flux"
   ]
  },
  {
   "cell_type": "code",
   "execution_count": 6,
   "metadata": {
    "collapsed": false
   },
   "outputs": [
    {
     "data": {
      "image/png": "[encoded data removed]",
      "text/plain": [
       "<matplotlib.figure.Figure at 0xad918d0>"
      ]
     },
     "metadata": {},
     "output_type": "display_data"
    }
   ],
   "source": [
    "Bias = [50,55,60,65,70,75,80]\n",
    "AtomsPerIon = [.0328,.0614,.086,.109,.136,.159,.165]\n",
    "eVPerAtom = [10.36,10.99,11.50,12.18,12.5,13.4,13.54]\n",
    "BiasCurrent = [.12,.15,.2,.22,.25,.27,.3]\n",
    "plt.plot(Bias,AtomsPerIon,'k.')\n",
    "plt.show()"
   ]
  },
  {
   "cell_type": "code",
   "execution_count": null,
   "metadata": {
    "collapsed": true
   },
   "outputs": [],
   "source": []
  }
 ],
 "metadata": {
  "kernelspec": {
   "display_name": "Python [PISCES]",
   "language": "python",
   "name": "Python [PISCES]"
  },
  "language_info": {
   "codemirror_mode": {
    "name": "ipython",
    "version": 2
   },
   "file_extension": ".py",
   "mimetype": "text/x-python",
   "name": "python",
   "nbconvert_exporter": "python",
   "pygments_lexer": "ipython2",
   "version": "2.7.12"
  }
 },
 "nbformat": 4,
 "nbformat_minor": 0
}
