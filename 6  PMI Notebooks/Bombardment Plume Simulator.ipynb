{
 "cells": [
  {
   "cell_type": "markdown",
   "metadata": {},
   "source": [
    "\n",
    "# Bombardment Experiment"
   ]
  },
  {
   "cell_type": "markdown",
   "metadata": {},
   "source": [
    "A 0D, 1D, and 3D model of sputtering yield and impurity entrainment in background plasma flow. Determine the plume profile in the \n",
    "diffusive limit and the convective limt\n",
    "\n",
    "Input parameters\n",
    "Plasma potential: radvar\n",
    "Bias potential: var\n",
    "potential drop across sheath: 5.1*TeV\n",
    "Plasma flow velocity: 300m/s\n",
    "Plasma density:\n",
    "\n",
    "\n",
    "Output Values\n",
    "Ionization mean free path\n",
    "Impurity emissivity\n",
    "Sputtering yield\n",
    "Plume Profile\n",
    "\n"
   ]
  },
  {
   "cell_type": "code",
   "execution_count": null,
   "metadata": {
    "collapsed": true
   },
   "outputs": [],
   "source": []
  }
 ],
 "metadata": {
  "anaconda-cloud": {},
  "kernelspec": {
   "display_name": "Python [PISCES]",
   "language": "python",
   "name": "Python [PISCES]"
  },
  "language_info": {
   "codemirror_mode": {
    "name": "ipython",
    "version": 2
   },
   "file_extension": ".py",
   "mimetype": "text/x-python",
   "name": "python",
   "nbconvert_exporter": "python",
   "pygments_lexer": "ipython2",
   "version": "2.7.12"
  }
 },
 "nbformat": 4,
 "nbformat_minor": 0
}
